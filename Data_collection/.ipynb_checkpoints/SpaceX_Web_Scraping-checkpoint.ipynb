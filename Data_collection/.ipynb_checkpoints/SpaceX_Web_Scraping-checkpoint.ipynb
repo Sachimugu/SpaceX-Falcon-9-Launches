{
 "cells": [
  {
   "cell_type": "code",
   "execution_count": 1,
   "id": "17cacbe5",
   "metadata": {},
   "outputs": [],
   "source": [
    "import pandas as pd\n",
    "import numpy as np"
   ]
  },
  {
   "cell_type": "code",
   "execution_count": 2,
   "id": "f1c9e701",
   "metadata": {},
   "outputs": [],
   "source": [
    "url = \"https://en.wikipedia.org/w/index.php?title=List_of_Falcon_9_and_Falcon_Heavy_launches&oldid=1027686922\""
   ]
  },
  {
   "cell_type": "code",
   "execution_count": 3,
   "id": "aa042b48",
   "metadata": {},
   "outputs": [],
   "source": [
    "dfs = pd.read_html(url)"
   ]
  },
  {
   "cell_type": "code",
   "execution_count": 4,
   "id": "8e176a41",
   "metadata": {},
   "outputs": [],
   "source": [
    "df_list = []\n",
    "for x in dfs:\n",
    "    if len(x.columns) == 10:\n",
    "        df_list.append(x)\n",
    "df=pd.concat(df_list,ignore_index= True)\n",
    "    "
   ]
  },
  {
   "cell_type": "code",
   "execution_count": 5,
   "id": "c51ed211",
   "metadata": {},
   "outputs": [
    {
     "data": {
      "text/plain": [
       "(257, 12)"
      ]
     },
     "execution_count": 5,
     "metadata": {},
     "output_type": "execute_result"
    }
   ],
   "source": [
    "df.shape"
   ]
  },
  {
   "cell_type": "code",
   "execution_count": 6,
   "id": "d6f8d0e6",
   "metadata": {
    "scrolled": false
   },
   "outputs": [
    {
     "name": "stdout",
     "output_type": "stream",
     "text": [
      "<class 'pandas.core.frame.DataFrame'>\n",
      "RangeIndex: 257 entries, 0 to 256\n",
      "Data columns (total 12 columns):\n",
      " #   Column               Non-Null Count  Dtype \n",
      "---  ------               --------------  ----- \n",
      " 0   Flight No.           257 non-null    object\n",
      " 1   Date andtime (UTC)   257 non-null    object\n",
      " 2   Version,Booster [b]  15 non-null     object\n",
      " 3   Launch site          139 non-null    object\n",
      " 4   Payload[c]           257 non-null    object\n",
      " 5   Payload mass         255 non-null    object\n",
      " 6   Orbit                257 non-null    object\n",
      " 7   Customer             257 non-null    object\n",
      " 8   Launchoutcome        257 non-null    object\n",
      " 9   Boosterlanding       257 non-null    object\n",
      " 10  Version,Booster[b]   242 non-null    object\n",
      " 11  Launchsite           118 non-null    object\n",
      "dtypes: object(12)\n",
      "memory usage: 24.2+ KB\n"
     ]
    }
   ],
   "source": [
    "df.info()"
   ]
  },
  {
   "cell_type": "code",
   "execution_count": 7,
   "id": "bab8ba1c",
   "metadata": {
    "scrolled": true
   },
   "outputs": [
    {
     "data": {
      "text/plain": [
       "Index(['Flight No.', 'Date andtime (UTC)', 'Version,Booster [b]',\n",
       "       'Launch site', 'Payload[c]', 'Payload mass', 'Orbit', 'Customer',\n",
       "       'Launchoutcome', 'Boosterlanding', 'Version,Booster[b]', 'Launchsite'],\n",
       "      dtype='object')"
      ]
     },
     "execution_count": 7,
     "metadata": {},
     "output_type": "execute_result"
    }
   ],
   "source": [
    "df.columns"
   ]
  },
  {
   "cell_type": "code",
   "execution_count": 8,
   "id": "7186bf56",
   "metadata": {},
   "outputs": [],
   "source": [
    "df['Version,Booster[b]']=df['Version,Booster[b]'].fillna(df['Version,Booster [b]'])\n",
    "df['Launch site']=df['Launch site'].fillna(df['Launchsite'])\n",
    "df=df.drop(columns=['Version,Booster [b]', 'Launchsite'])"
   ]
  },
  {
   "cell_type": "code",
   "execution_count": 9,
   "id": "56d87e7a",
   "metadata": {
    "scrolled": true
   },
   "outputs": [
    {
     "data": {
      "text/plain": [
       "Flight No.            0\n",
       "Date andtime (UTC)    0\n",
       "Launch site           0\n",
       "Payload[c]            0\n",
       "Payload mass          2\n",
       "Orbit                 0\n",
       "Customer              0\n",
       "Launchoutcome         0\n",
       "Boosterlanding        0\n",
       "Version,Booster[b]    0\n",
       "dtype: int64"
      ]
     },
     "execution_count": 9,
     "metadata": {},
     "output_type": "execute_result"
    }
   ],
   "source": [
    "\n",
    "df.isnull().sum()"
   ]
  },
  {
   "cell_type": "code",
   "execution_count": 10,
   "id": "728c304c",
   "metadata": {},
   "outputs": [],
   "source": [
    "df=df.rename(columns={\n",
    "    'Version,Booster[b]': 'Version Booster',\n",
    "    'Payload[c]':'Payload',\n",
    "    'Launchoutcome':'Launch Outcome',\n",
    "    'Boosterlanding':'Booster Landing',\n",
    "    'Launchsite':'Launch Site',\n",
    "    'Date andtime (UTC)':'Date'\n",
    "})\n",
    "df=df[df.duplicated(subset=['Flight No.'], keep='last')]"
   ]
  },
  {
   "cell_type": "code",
   "execution_count": 11,
   "id": "2af0b5bb",
   "metadata": {},
   "outputs": [
    {
     "data": {
      "text/html": [
       "<div>\n",
       "<style scoped>\n",
       "    .dataframe tbody tr th:only-of-type {\n",
       "        vertical-align: middle;\n",
       "    }\n",
       "\n",
       "    .dataframe tbody tr th {\n",
       "        vertical-align: top;\n",
       "    }\n",
       "\n",
       "    .dataframe thead th {\n",
       "        text-align: right;\n",
       "    }\n",
       "</style>\n",
       "<table border=\"1\" class=\"dataframe\">\n",
       "  <thead>\n",
       "    <tr style=\"text-align: right;\">\n",
       "      <th></th>\n",
       "      <th>Flight No.</th>\n",
       "      <th>Date</th>\n",
       "      <th>Launch site</th>\n",
       "      <th>Payload</th>\n",
       "      <th>Payload mass</th>\n",
       "      <th>Orbit</th>\n",
       "      <th>Customer</th>\n",
       "      <th>Launch Outcome</th>\n",
       "      <th>Booster Landing</th>\n",
       "      <th>Version Booster</th>\n",
       "    </tr>\n",
       "  </thead>\n",
       "  <tbody>\n",
       "    <tr>\n",
       "      <th>0</th>\n",
       "      <td>1</td>\n",
       "      <td>4 June 2010,18:45</td>\n",
       "      <td>CCAFS,SLC-40</td>\n",
       "      <td>Dragon Spacecraft Qualification Unit</td>\n",
       "      <td>NaN</td>\n",
       "      <td>LEO</td>\n",
       "      <td>SpaceX</td>\n",
       "      <td>Success</td>\n",
       "      <td>Failure[9][10](parachute)</td>\n",
       "      <td>F9 v1.0[7]B0003.1[8]</td>\n",
       "    </tr>\n",
       "    <tr>\n",
       "      <th>2</th>\n",
       "      <td>2</td>\n",
       "      <td>8 December 2010,15:43[13]</td>\n",
       "      <td>CCAFS,SLC-40</td>\n",
       "      <td>Dragon demo flight C1(Dragon C101)</td>\n",
       "      <td>NaN</td>\n",
       "      <td>LEO (ISS)</td>\n",
       "      <td>NASA (COTS) NRO</td>\n",
       "      <td>Success[9]</td>\n",
       "      <td>Failure[9][14](parachute)</td>\n",
       "      <td>F9 v1.0[7]B0004.1[8]</td>\n",
       "    </tr>\n",
       "    <tr>\n",
       "      <th>4</th>\n",
       "      <td>3</td>\n",
       "      <td>22 May 2012,07:44[17]</td>\n",
       "      <td>CCAFS,SLC-40</td>\n",
       "      <td>Dragon demo flight C2+[18](Dragon C102)</td>\n",
       "      <td>525 kg (1,157 lb)[19]</td>\n",
       "      <td>LEO (ISS)</td>\n",
       "      <td>NASA (COTS)</td>\n",
       "      <td>Success[20]</td>\n",
       "      <td>No attempt</td>\n",
       "      <td>F9 v1.0[7]B0005.1[8]</td>\n",
       "    </tr>\n",
       "    <tr>\n",
       "      <th>6</th>\n",
       "      <td>4</td>\n",
       "      <td>8 October 2012,00:35[21]</td>\n",
       "      <td>CCAFS,SLC-40</td>\n",
       "      <td>SpaceX CRS-1[22](Dragon C103)</td>\n",
       "      <td>4,700 kg (10,400 lb)</td>\n",
       "      <td>LEO (ISS)</td>\n",
       "      <td>NASA (CRS)</td>\n",
       "      <td>Success</td>\n",
       "      <td>No attempt</td>\n",
       "      <td>F9 v1.0[7]B0006.1[8]</td>\n",
       "    </tr>\n",
       "    <tr>\n",
       "      <th>7</th>\n",
       "      <td>4</td>\n",
       "      <td>8 October 2012,00:35[21]</td>\n",
       "      <td>CCAFS,SLC-40</td>\n",
       "      <td>Orbcomm-OG2[23]</td>\n",
       "      <td>172 kg (379 lb)[24]</td>\n",
       "      <td>LEO</td>\n",
       "      <td>Orbcomm</td>\n",
       "      <td>Partial failure[25]</td>\n",
       "      <td>No attempt</td>\n",
       "      <td>F9 v1.0[7]B0006.1[8]</td>\n",
       "    </tr>\n",
       "  </tbody>\n",
       "</table>\n",
       "</div>"
      ],
      "text/plain": [
       "  Flight No.                       Date   Launch site  \\\n",
       "0          1          4 June 2010,18:45  CCAFS,SLC-40   \n",
       "2          2  8 December 2010,15:43[13]  CCAFS,SLC-40   \n",
       "4          3      22 May 2012,07:44[17]  CCAFS,SLC-40   \n",
       "6          4   8 October 2012,00:35[21]  CCAFS,SLC-40   \n",
       "7          4   8 October 2012,00:35[21]  CCAFS,SLC-40   \n",
       "\n",
       "                                   Payload           Payload mass      Orbit  \\\n",
       "0     Dragon Spacecraft Qualification Unit                    NaN        LEO   \n",
       "2       Dragon demo flight C1(Dragon C101)                    NaN  LEO (ISS)   \n",
       "4  Dragon demo flight C2+[18](Dragon C102)  525 kg (1,157 lb)[19]  LEO (ISS)   \n",
       "6            SpaceX CRS-1[22](Dragon C103)   4,700 kg (10,400 lb)  LEO (ISS)   \n",
       "7                          Orbcomm-OG2[23]    172 kg (379 lb)[24]        LEO   \n",
       "\n",
       "          Customer       Launch Outcome            Booster Landing  \\\n",
       "0           SpaceX              Success  Failure[9][10](parachute)   \n",
       "2  NASA (COTS) NRO           Success[9]  Failure[9][14](parachute)   \n",
       "4      NASA (COTS)          Success[20]                 No attempt   \n",
       "6       NASA (CRS)              Success                 No attempt   \n",
       "7          Orbcomm  Partial failure[25]                 No attempt   \n",
       "\n",
       "        Version Booster  \n",
       "0  F9 v1.0[7]B0003.1[8]  \n",
       "2  F9 v1.0[7]B0004.1[8]  \n",
       "4  F9 v1.0[7]B0005.1[8]  \n",
       "6  F9 v1.0[7]B0006.1[8]  \n",
       "7  F9 v1.0[7]B0006.1[8]  "
      ]
     },
     "execution_count": 11,
     "metadata": {},
     "output_type": "execute_result"
    }
   ],
   "source": [
    "df.head(5)"
   ]
  },
  {
   "cell_type": "code",
   "execution_count": 12,
   "id": "24521faf",
   "metadata": {},
   "outputs": [],
   "source": [
    "date=df['Date'].str.replace('\\[\\d{2}.*', '',regex=True)\n",
    "date=date.str.replace(',','')\n",
    "date=date.str.extract('(\\d{1}|\\d{2})( .* )(\\d\\d\\d\\d)')\n",
    "date = date[0] + date[1] + date[2]\n",
    "df['Date']=pd.to_datetime(date)"
   ]
  },
  {
   "cell_type": "code",
   "execution_count": 13,
   "id": "769402c4",
   "metadata": {},
   "outputs": [],
   "source": [
    "df['Payload']=df['Payload'].str.replace('\\[\\d.*', '', regex=True)\n",
    "df['Payload mass']=df['Payload mass'].str.replace('kg.*', '', regex=True)\n",
    "df['Orbit']=df['Orbit'].str.replace('\\(.*', '', regex=True)\n",
    "df['Customer']=df['Customer'].str.replace('\\(.*', '', regex=True)\n",
    "df['Launch Outcome']=df['Launch Outcome'].str.replace('\\[\\d.*', '', regex=True)\n",
    "df['Booster Landing']=df['Booster Landing'].str.replace('\\[\\d.*', '', regex=True)\n",
    "df['Version Booster']=df['Version Booster'].str.replace('\\[\\d]', '', regex=True)"
   ]
  },
  {
   "cell_type": "code",
   "execution_count": 14,
   "id": "c23cad2e",
   "metadata": {},
   "outputs": [
    {
     "data": {
      "text/html": [
       "<div>\n",
       "<style scoped>\n",
       "    .dataframe tbody tr th:only-of-type {\n",
       "        vertical-align: middle;\n",
       "    }\n",
       "\n",
       "    .dataframe tbody tr th {\n",
       "        vertical-align: top;\n",
       "    }\n",
       "\n",
       "    .dataframe thead th {\n",
       "        text-align: right;\n",
       "    }\n",
       "</style>\n",
       "<table border=\"1\" class=\"dataframe\">\n",
       "  <thead>\n",
       "    <tr style=\"text-align: right;\">\n",
       "      <th></th>\n",
       "      <th>Flight No.</th>\n",
       "      <th>Date</th>\n",
       "      <th>Launch site</th>\n",
       "      <th>Payload</th>\n",
       "      <th>Payload mass</th>\n",
       "      <th>Orbit</th>\n",
       "      <th>Customer</th>\n",
       "      <th>Launch Outcome</th>\n",
       "      <th>Booster Landing</th>\n",
       "      <th>Version Booster</th>\n",
       "    </tr>\n",
       "  </thead>\n",
       "  <tbody>\n",
       "    <tr>\n",
       "      <th>0</th>\n",
       "      <td>1</td>\n",
       "      <td>2010-06-04</td>\n",
       "      <td>CCAFS,SLC-40</td>\n",
       "      <td>Dragon Spacecraft Qualification Unit</td>\n",
       "      <td>NaN</td>\n",
       "      <td>LEO</td>\n",
       "      <td>SpaceX</td>\n",
       "      <td>Success</td>\n",
       "      <td>Failure</td>\n",
       "      <td>F9 v1.0B0003.1</td>\n",
       "    </tr>\n",
       "    <tr>\n",
       "      <th>2</th>\n",
       "      <td>2</td>\n",
       "      <td>2010-12-08</td>\n",
       "      <td>CCAFS,SLC-40</td>\n",
       "      <td>Dragon demo flight C1(Dragon C101)</td>\n",
       "      <td>NaN</td>\n",
       "      <td>LEO</td>\n",
       "      <td>NASA</td>\n",
       "      <td>Success</td>\n",
       "      <td>Failure</td>\n",
       "      <td>F9 v1.0B0004.1</td>\n",
       "    </tr>\n",
       "    <tr>\n",
       "      <th>4</th>\n",
       "      <td>3</td>\n",
       "      <td>2012-05-22</td>\n",
       "      <td>CCAFS,SLC-40</td>\n",
       "      <td>Dragon demo flight C2+</td>\n",
       "      <td>525</td>\n",
       "      <td>LEO</td>\n",
       "      <td>NASA</td>\n",
       "      <td>Success</td>\n",
       "      <td>No attempt</td>\n",
       "      <td>F9 v1.0B0005.1</td>\n",
       "    </tr>\n",
       "    <tr>\n",
       "      <th>6</th>\n",
       "      <td>4</td>\n",
       "      <td>2012-10-08</td>\n",
       "      <td>CCAFS,SLC-40</td>\n",
       "      <td>SpaceX CRS-1</td>\n",
       "      <td>4,700</td>\n",
       "      <td>LEO</td>\n",
       "      <td>NASA</td>\n",
       "      <td>Success</td>\n",
       "      <td>No attempt</td>\n",
       "      <td>F9 v1.0B0006.1</td>\n",
       "    </tr>\n",
       "    <tr>\n",
       "      <th>7</th>\n",
       "      <td>4</td>\n",
       "      <td>2012-10-08</td>\n",
       "      <td>CCAFS,SLC-40</td>\n",
       "      <td>Orbcomm-OG2</td>\n",
       "      <td>172</td>\n",
       "      <td>LEO</td>\n",
       "      <td>Orbcomm</td>\n",
       "      <td>Partial failure</td>\n",
       "      <td>No attempt</td>\n",
       "      <td>F9 v1.0B0006.1</td>\n",
       "    </tr>\n",
       "  </tbody>\n",
       "</table>\n",
       "</div>"
      ],
      "text/plain": [
       "  Flight No.       Date   Launch site                               Payload  \\\n",
       "0          1 2010-06-04  CCAFS,SLC-40  Dragon Spacecraft Qualification Unit   \n",
       "2          2 2010-12-08  CCAFS,SLC-40    Dragon demo flight C1(Dragon C101)   \n",
       "4          3 2012-05-22  CCAFS,SLC-40                Dragon demo flight C2+   \n",
       "6          4 2012-10-08  CCAFS,SLC-40                          SpaceX CRS-1   \n",
       "7          4 2012-10-08  CCAFS,SLC-40                           Orbcomm-OG2   \n",
       "\n",
       "  Payload mass Orbit Customer   Launch Outcome Booster Landing Version Booster  \n",
       "0          NaN   LEO   SpaceX          Success         Failure  F9 v1.0B0003.1  \n",
       "2          NaN  LEO     NASA           Success         Failure  F9 v1.0B0004.1  \n",
       "4         525   LEO     NASA           Success      No attempt  F9 v1.0B0005.1  \n",
       "6       4,700   LEO     NASA           Success      No attempt  F9 v1.0B0006.1  \n",
       "7         172    LEO  Orbcomm  Partial failure      No attempt  F9 v1.0B0006.1  "
      ]
     },
     "execution_count": 14,
     "metadata": {},
     "output_type": "execute_result"
    }
   ],
   "source": [
    "df.head(5)"
   ]
  },
  {
   "cell_type": "code",
   "execution_count": 44,
   "id": "3be7e64f",
   "metadata": {},
   "outputs": [],
   "source": [
    "df.to_csv('../Datasets/dataset2.csv')"
   ]
  },
  {
   "cell_type": "code",
   "execution_count": 32,
   "id": "1e78393f",
   "metadata": {},
   "outputs": [],
   "source": []
  },
  {
   "cell_type": "code",
   "execution_count": 34,
   "id": "7dbe7ad1",
   "metadata": {},
   "outputs": [],
   "source": []
  },
  {
   "cell_type": "code",
   "execution_count": 36,
   "id": "7e16f265",
   "metadata": {},
   "outputs": [],
   "source": []
  },
  {
   "cell_type": "code",
   "execution_count": 38,
   "id": "cc6065d2",
   "metadata": {},
   "outputs": [],
   "source": []
  },
  {
   "cell_type": "code",
   "execution_count": null,
   "id": "665d4095",
   "metadata": {},
   "outputs": [],
   "source": []
  }
 ],
 "metadata": {
  "kernelspec": {
   "display_name": "Python 3 (ipykernel)",
   "language": "python",
   "name": "python3"
  },
  "language_info": {
   "codemirror_mode": {
    "name": "ipython",
    "version": 3
   },
   "file_extension": ".py",
   "mimetype": "text/x-python",
   "name": "python",
   "nbconvert_exporter": "python",
   "pygments_lexer": "ipython3",
   "version": "3.10.0"
  }
 },
 "nbformat": 4,
 "nbformat_minor": 5
}
